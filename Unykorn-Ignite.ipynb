{
 "cells": [
  {
   "cell_type": "markdown",
   "id": "984f8895",
   "metadata": {},
   "source": [
    "# Unykorn Ignite Notebook\n",
    "\n",
    "Bridge Codespaces secrets → restart API → verify Xumm → apply Cloudflare DNS.\n",
    "\n",
    "Note: If your Codespaces secrets show ‘0 repositories’, they won’t be injected. Either:\n",
    "- Edit each secret (XAMANAPI, XAMANKEY, CLOUDFAREWORKERAPI / CLOUDFLARE_API_TOKEN) to be available to this repository (or All repositories), then restart the Codespace; or\n",
    "- Manually export them in the shell (Step 1b) once per session."
   ]
  },
  {
   "cell_type": "markdown",
   "id": "fef44b0e",
   "metadata": {},
   "source": [
    "## 0) Prereqs: Codespaces Secrets\n",
    "- GitHub → Settings → Codespaces → Secrets.\n",
    "- Ensure these exist and are assigned to this repo (not ‘0 repositories’):\n",
    "  - `XAMANAPI`, `XAMANKEY` (Xumm)\n",
    "  - `CLOUDFAREWORKERAPI` or `CLOUDFLARE_API_TOKEN` (Cloudflare)\n",
    "- Optional: `CLOUDFLARE_ZONE_ID` (script can resolve from domain).\n",
    "- Restart the Codespace so secrets are injected into the container."
   ]
  },
  {
   "cell_type": "markdown",
   "id": "ffabf9dd",
   "metadata": {},
   "source": [
    "## 1a) Bridge and inspect environment\n",
    "Maps common secret names into what the repo expects and shows a masked summary."
   ]
  },
  {
   "cell_type": "code",
   "execution_count": null,
   "id": "6363e1ee",
   "metadata": {
    "vscode": {
     "languageId": "bash"
    }
   },
   "outputs": [],
   "source": [
    "set -e\n",
    "source scripts/env-bridge.sh\n",
    "echo \"== masked env summary ==\"\n",
    "env | egrep '^(XUMM_API_|XAMANAPI|XAMANKEY|CF_API_TOKEN|CLOUDFLARE_API_TOKEN|CLOUDFAREWORKERAPI|CF_ZONE_ID|CLOUDFLARE_ZONE_ID|DOMAIN)=' | sed -E 's/=.*/=***masked***/' || true"
   ]
  },
  {
   "cell_type": "markdown",
   "id": "612cf067",
   "metadata": {},
   "source": [
    "## 1b) Manual shim (only if secrets didn’t inject)\n",
    "Map your Codespaces secrets into the expected env vars for this session, then re-run 1a."
   ]
  },
  {
   "cell_type": "code",
   "execution_count": null,
   "id": "88d4a662",
   "metadata": {
    "vscode": {
     "languageId": "bash"
    }
   },
   "outputs": [],
   "source": [
    "# Manual shim (edit if you prefer to paste literal values)\n",
    "export XUMM_API_KEY=\"$XAMANAPI\"\n",
    "export XUMM_API_SECRET=\"$XAMANKEY\"\n",
    "export CF_API_TOKEN=\"$CLOUDFAREWORKERAPI\"   # or: export CF_API_TOKEN=\"$CLOUDFLARE_API_TOKEN\"\n",
    "export DOMAIN=\"unykorn.org\"\n",
    "source scripts/env-bridge.sh\n",
    "echo \"== masked (post-shim) ==\"\n",
    "env | egrep '^(XUMM_API_|CF_API_TOKEN|DOMAIN)=' | sed -E 's/=.*/=***masked***/'"
   ]
  },
  {
   "cell_type": "markdown",
   "id": "2c126945",
   "metadata": {},
   "source": [
    "## 2) Restart API and verify Xumm\n",
    "Kills any stuck process on port 4000, relaunches API, then checks /health and /xumm/ping."
   ]
  },
  {
   "cell_type": "code",
   "execution_count": null,
   "id": "849dba93",
   "metadata": {
    "vscode": {
     "languageId": "bash"
    }
   },
   "outputs": [],
   "source": [
    "npm run api:reset\n",
    "echo \"== /health ==\"\n",
    "curl -sS http://localhost:4000/health | jq\n",
    "echo \"== /xumm/ping ==\"\n",
    "curl -sS http://localhost:4000/xumm/ping | jq || true"
   ]
  },
  {
   "cell_type": "markdown",
   "id": "10f106e7",
   "metadata": {},
   "source": [
    "## 3) Cloudflare DNS automation\n",
    "Requires `CF_API_TOKEN` in the environment (or `CLOUDFLARE_API_TOKEN` / `CLOUDFAREWORKERAPI`).\n",
    "Update `--target` to your actual API host (e.g., `api.fly.dev`, `onrender.com`, etc.)."
   ]
  },
  {
   "cell_type": "code",
   "execution_count": null,
   "id": "c934d525",
   "metadata": {
    "vscode": {
     "languageId": "bash"
    }
   },
   "outputs": [],
   "source": [
    "echo \"== Cloudflare: verify zone ==\"\n",
    "npm run cf:verify -- --domain \"$DOMAIN\"\n",
    "echo \"== Cloudflare: Pages on apex + www ==\"\n",
    "npm run cf:pages:apex -- --domain \"$DOMAIN\" --proxied true\n",
    "echo \"== Cloudflare: set API CNAME ==\"\n",
    "# Replace target below with your actual API host\n",
    "npm run cf:set:api -- --domain \"$DOMAIN\" --target api.fly.dev --proxied true\n",
    "echo \"== Cloudflare: show records ==\"\n",
    "npm run cf:show -- --domain \"$DOMAIN\""
   ]
  },
  {
   "cell_type": "markdown",
   "id": "2d796421",
   "metadata": {},
   "source": [
    "## 4) Troubleshooting\n",
    "- EADDRINUSE (port busy): `npm run api:stop` then `npm run api:start`.\n",
    "- Missing Xumm keys: export in the same terminal as the API, then `npm run api:reset`.\n",
    "- GitHub Codespaces forwarded URL not resolving: Ports tab → 4000 → Visibility: Public → Open in Browser.\n",
    "- CORS in production: set `CORS_ORIGINS=https://unykorn.org,https://www.unykorn.org,https://trustiva.io,https://www.trustiva.io` on the API host.\n",
    "- GitHub Pages repo Variables (Actions → Variables):\n",
    "  - `NEXT_PUBLIC_API_BASE=https://api.unykorn.org`\n",
    "  - `NEXT_PUBLIC_BRAND=Unykorn`\n",
    "  - `NEXT_PUBLIC_NETWORK_LABEL=Mainnet`\n",
    "  - `NEXT_PUBLIC_HIDE_CHECK_NAV=false`\n",
    "  - `PAGES_CNAME=unykorn.org` (optional override; `apps/web/public/CNAME` already set)"
   ]
  },
  {
   "cell_type": "code",
   "execution_count": null,
   "id": "b10f817c",
   "metadata": {
    "vscode": {
     "languageId": "bash"
    }
   },
   "outputs": [],
   "source": [
    "echo \"✅ Unykorn Ignite complete: API + Xumm + Cloudflare all verified $(date)\""
   ]
  }
 ],
 "metadata": {
  "language_info": {
   "name": "python"
  }
 },
 "nbformat": 4,
 "nbformat_minor": 5
}
